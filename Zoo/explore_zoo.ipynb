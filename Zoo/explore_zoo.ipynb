{
 "cells": [
  {
   "cell_type": "code",
   "execution_count": 1,
   "metadata": {},
   "outputs": [],
   "source": [
    "from pathlib import Path\n",
    "import numpy as np\n",
    "import pandas as pd"
   ]
  },
  {
   "cell_type": "code",
   "execution_count": 2,
   "metadata": {},
   "outputs": [],
   "source": [
    "pcif = Path() / 'cifar10'\n",
    "pa = pcif / 'weights.npy'"
   ]
  },
  {
   "cell_type": "code",
   "execution_count": 3,
   "metadata": {},
   "outputs": [],
   "source": [
    "data = np.load(pa)"
   ]
  },
  {
   "cell_type": "code",
   "execution_count": 4,
   "metadata": {
    "scrolled": false
   },
   "outputs": [
    {
     "data": {
      "text/plain": [
       "1341900000"
      ]
     },
     "execution_count": 4,
     "metadata": {},
     "output_type": "execute_result"
    }
   ],
   "source": [
    "len(data)*data[0].shape[0]"
   ]
  },
  {
   "cell_type": "code",
   "execution_count": 14,
   "metadata": {},
   "outputs": [
    {
     "data": {
      "text/html": [
       "<div>\n",
       "<style scoped>\n",
       "    .dataframe tbody tr th:only-of-type {\n",
       "        vertical-align: middle;\n",
       "    }\n",
       "\n",
       "    .dataframe tbody tr th {\n",
       "        vertical-align: top;\n",
       "    }\n",
       "\n",
       "    .dataframe thead th {\n",
       "        text-align: right;\n",
       "    }\n",
       "</style>\n",
       "<table border=\"1\" class=\"dataframe\">\n",
       "  <thead>\n",
       "    <tr style=\"text-align: right;\">\n",
       "      <th></th>\n",
       "      <th>varname</th>\n",
       "      <th>start_idx</th>\n",
       "      <th>end_idx</th>\n",
       "      <th>size</th>\n",
       "      <th>shape</th>\n",
       "    </tr>\n",
       "  </thead>\n",
       "  <tbody>\n",
       "    <tr>\n",
       "      <th>0</th>\n",
       "      <td>sequential/conv2d/bias:0</td>\n",
       "      <td>0</td>\n",
       "      <td>16</td>\n",
       "      <td>16</td>\n",
       "      <td>(16,)</td>\n",
       "    </tr>\n",
       "    <tr>\n",
       "      <th>1</th>\n",
       "      <td>sequential/conv2d/kernel:0</td>\n",
       "      <td>16</td>\n",
       "      <td>160</td>\n",
       "      <td>144</td>\n",
       "      <td>(3, 3, 1, 16)</td>\n",
       "    </tr>\n",
       "    <tr>\n",
       "      <th>2</th>\n",
       "      <td>sequential/conv2d_1/bias:0</td>\n",
       "      <td>160</td>\n",
       "      <td>176</td>\n",
       "      <td>16</td>\n",
       "      <td>(16,)</td>\n",
       "    </tr>\n",
       "    <tr>\n",
       "      <th>3</th>\n",
       "      <td>sequential/conv2d_1/kernel:0</td>\n",
       "      <td>176</td>\n",
       "      <td>2480</td>\n",
       "      <td>2304</td>\n",
       "      <td>(3, 3, 16, 16)</td>\n",
       "    </tr>\n",
       "    <tr>\n",
       "      <th>4</th>\n",
       "      <td>sequential/conv2d_2/bias:0</td>\n",
       "      <td>2480</td>\n",
       "      <td>2496</td>\n",
       "      <td>16</td>\n",
       "      <td>(16,)</td>\n",
       "    </tr>\n",
       "    <tr>\n",
       "      <th>5</th>\n",
       "      <td>sequential/conv2d_2/kernel:0</td>\n",
       "      <td>2496</td>\n",
       "      <td>4800</td>\n",
       "      <td>2304</td>\n",
       "      <td>(3, 3, 16, 16)</td>\n",
       "    </tr>\n",
       "    <tr>\n",
       "      <th>6</th>\n",
       "      <td>sequential/dense/bias:0</td>\n",
       "      <td>4800</td>\n",
       "      <td>4810</td>\n",
       "      <td>10</td>\n",
       "      <td>(10,)</td>\n",
       "    </tr>\n",
       "    <tr>\n",
       "      <th>7</th>\n",
       "      <td>sequential/dense/kernel:0</td>\n",
       "      <td>4810</td>\n",
       "      <td>4970</td>\n",
       "      <td>160</td>\n",
       "      <td>(16, 10)</td>\n",
       "    </tr>\n",
       "  </tbody>\n",
       "</table>\n",
       "</div>"
      ],
      "text/plain": [
       "                        varname  start_idx  end_idx  size           shape\n",
       "0      sequential/conv2d/bias:0          0       16    16           (16,)\n",
       "1    sequential/conv2d/kernel:0         16      160   144   (3, 3, 1, 16)\n",
       "2    sequential/conv2d_1/bias:0        160      176    16           (16,)\n",
       "3  sequential/conv2d_1/kernel:0        176     2480  2304  (3, 3, 16, 16)\n",
       "4    sequential/conv2d_2/bias:0       2480     2496    16           (16,)\n",
       "5  sequential/conv2d_2/kernel:0       2496     4800  2304  (3, 3, 16, 16)\n",
       "6       sequential/dense/bias:0       4800     4810    10           (10,)\n",
       "7     sequential/dense/kernel:0       4810     4970   160        (16, 10)"
      ]
     },
     "execution_count": 14,
     "metadata": {},
     "output_type": "execute_result"
    }
   ],
   "source": [
    "df = pd.read_csv( pcif / 'layout.csv')\n",
    "df"
   ]
  },
  {
   "cell_type": "code",
   "execution_count": 6,
   "metadata": {},
   "outputs": [],
   "source": [
    "m = pd.read_csv( pcif / 'metrics.csv.gz')"
   ]
  },
  {
   "cell_type": "code",
   "execution_count": 18,
   "metadata": {},
   "outputs": [
    {
     "data": {
      "text/plain": [
       "(['(16,)',\n",
       "  '(3, 3, 1, 16)',\n",
       "  '(16,)',\n",
       "  '(3, 3, 16, 16)',\n",
       "  '(16,)',\n",
       "  '(3, 3, 16, 16)',\n",
       "  '(10,)',\n",
       "  '(16, 10)'],\n",
       " 144,\n",
       " 2304,\n",
       " 160)"
      ]
     },
     "execution_count": 18,
     "metadata": {},
     "output_type": "execute_result"
    }
   ],
   "source": [
    "[sh for sh in df['shape']], 3*3*1*16, 3*3*16*16, 16*10"
   ]
  },
  {
   "cell_type": "code",
   "execution_count": 8,
   "metadata": {},
   "outputs": [
    {
     "data": {
      "text/plain": [
       "array([[<AxesSubplot:title={'center':'test_accuracy'}>]], dtype=object)"
      ]
     },
     "execution_count": 8,
     "metadata": {},
     "output_type": "execute_result"
    },
    {
     "data": {
      "image/png": "[encoded data removed]",
      "text/plain": [
       "<Figure size 432x288 with 1 Axes>"
      ]
     },
     "metadata": {
      "needs_background": "light"
     },
     "output_type": "display_data"
    }
   ],
   "source": [
    "m.hist(column='test_accuracy', bins=100)"
   ]
  },
  {
   "cell_type": "code",
   "execution_count": 13,
   "metadata": {},
   "outputs": [
    {
     "data": {
      "text/plain": [
       "270000"
      ]
     },
     "execution_count": 13,
     "metadata": {},
     "output_type": "execute_result"
    }
   ],
   "source": [
    "n = len(data)\n",
    "n"
   ]
  },
  {
   "cell_type": "code",
   "execution_count": 12,
   "metadata": {},
   "outputs": [],
   "source": [
    "zoo = pcif / 'dgms'\n",
    "zoo.mkdir()"
   ]
  },
  {
   "cell_type": "code",
   "execution_count": 30,
   "metadata": {},
   "outputs": [
    {
     "data": {
      "text/html": [
       "<div>\n",
       "<style scoped>\n",
       "    .dataframe tbody tr th:only-of-type {\n",
       "        vertical-align: middle;\n",
       "    }\n",
       "\n",
       "    .dataframe tbody tr th {\n",
       "        vertical-align: top;\n",
       "    }\n",
       "\n",
       "    .dataframe thead th {\n",
       "        text-align: right;\n",
       "    }\n",
       "</style>\n",
       "<table border=\"1\" class=\"dataframe\">\n",
       "  <thead>\n",
       "    <tr style=\"text-align: right;\">\n",
       "      <th></th>\n",
       "      <th>varname</th>\n",
       "      <th>start_idx</th>\n",
       "      <th>end_idx</th>\n",
       "      <th>size</th>\n",
       "      <th>shape</th>\n",
       "    </tr>\n",
       "  </thead>\n",
       "  <tbody>\n",
       "    <tr>\n",
       "      <th>1</th>\n",
       "      <td>sequential/conv2d/kernel:0</td>\n",
       "      <td>16</td>\n",
       "      <td>160</td>\n",
       "      <td>144</td>\n",
       "      <td>(3, 3, 1, 16)</td>\n",
       "    </tr>\n",
       "    <tr>\n",
       "      <th>3</th>\n",
       "      <td>sequential/conv2d_1/kernel:0</td>\n",
       "      <td>176</td>\n",
       "      <td>2480</td>\n",
       "      <td>2304</td>\n",
       "      <td>(3, 3, 16, 16)</td>\n",
       "    </tr>\n",
       "    <tr>\n",
       "      <th>5</th>\n",
       "      <td>sequential/conv2d_2/kernel:0</td>\n",
       "      <td>2496</td>\n",
       "      <td>4800</td>\n",
       "      <td>2304</td>\n",
       "      <td>(3, 3, 16, 16)</td>\n",
       "    </tr>\n",
       "    <tr>\n",
       "      <th>7</th>\n",
       "      <td>sequential/dense/kernel:0</td>\n",
       "      <td>4810</td>\n",
       "      <td>4970</td>\n",
       "      <td>160</td>\n",
       "      <td>(16, 10)</td>\n",
       "    </tr>\n",
       "  </tbody>\n",
       "</table>\n",
       "</div>"
      ],
      "text/plain": [
       "                        varname  start_idx  end_idx  size           shape\n",
       "1    sequential/conv2d/kernel:0         16      160   144   (3, 3, 1, 16)\n",
       "3  sequential/conv2d_1/kernel:0        176     2480  2304  (3, 3, 16, 16)\n",
       "5  sequential/conv2d_2/kernel:0       2496     4800  2304  (3, 3, 16, 16)\n",
       "7     sequential/dense/kernel:0       4810     4970   160        (16, 10)"
      ]
     },
     "execution_count": 30,
     "metadata": {},
     "output_type": "execute_result"
    }
   ],
   "source": [
    "df_sel = df[\n",
    "    (df['varname'].str.contains('conv2d') \n",
    "     | df['varname'].str.contains('dense')) \n",
    "    & df['varname'].str.contains('kernel') ]\n",
    "df_sel"
   ]
  },
  {
   "cell_type": "code",
   "execution_count": 35,
   "metadata": {},
   "outputs": [
    {
     "data": {
      "text/plain": [
       "[(16, 160), (176, 2480), (2496, 4800), (4810, 4970)]"
      ]
     },
     "execution_count": 35,
     "metadata": {},
     "output_type": "execute_result"
    }
   ],
   "source": [
    "layers_ixs = list(zip(df_sel['start_idx'], df_sel['end_idx']))\n",
    "layers_ixs"
   ]
  },
  {
   "cell_type": "code",
   "execution_count": 36,
   "metadata": {},
   "outputs": [],
   "source": [
    "import persian.filtration as pf"
   ]
  },
  {
   "cell_type": "code",
   "execution_count": 38,
   "metadata": {},
   "outputs": [
    {
     "ename": "NameError",
     "evalue": "name 'cifar' is not defined",
     "output_type": "error",
     "traceback": [
      "\u001b[0;31m---------------------------------------------------------------------------\u001b[0m",
      "\u001b[0;31mNameError\u001b[0m                                 Traceback (most recent call last)",
      "\u001b[0;32m<ipython-input-38-d5996b14f7a4>\u001b[0m in \u001b[0;36m<module>\u001b[0;34m\u001b[0m\n\u001b[1;32m      2\u001b[0m     \u001b[0;32mif\u001b[0m \u001b[0mi\u001b[0m\u001b[0;34m%\u001b[0m\u001b[0;36m10\u001b[0m \u001b[0;34m==\u001b[0m \u001b[0;36m0\u001b[0m\u001b[0;34m:\u001b[0m\u001b[0;34m\u001b[0m\u001b[0;34m\u001b[0m\u001b[0m\n\u001b[1;32m      3\u001b[0m         print(f'processing {i}/{n-1}',\n\u001b[0;32m----> 4\u001b[0;31m               \u001b[0mzoo\u001b[0m \u001b[0;34m/\u001b[0m \u001b[0;34mf'{cifar}_dgms.npz'\u001b[0m\u001b[0;34m,\u001b[0m\u001b[0;34m\u001b[0m\u001b[0;34m\u001b[0m\u001b[0m\n\u001b[0m\u001b[1;32m      5\u001b[0m               sep='\\t')\n\u001b[1;32m      6\u001b[0m     \u001b[0mn_samples\u001b[0m \u001b[0;34m=\u001b[0m \u001b[0;36m144\u001b[0m\u001b[0;34m\u001b[0m\u001b[0;34m\u001b[0m\u001b[0m\n",
      "\u001b[0;31mNameError\u001b[0m: name 'cifar' is not defined"
     ]
    }
   ],
   "source": [
    "for i in range(n):\n",
    "    if i%10 == 0:\n",
    "        print(f'processing {i}/{n-1}',\n",
    "              zoo / f'{cifar}_dgms.npz',\n",
    "              sep='\\t')\n",
    "    n_samples = 144\n",
    "    count = 1\n",
    "    np.random.seed(94)\n",
    "    clouds = [\n",
    "        np.array([data[i][b:e][np.random.permutation(e-b)][:n_samples]\n",
    "                  for b, e in layers_ixs]).T\n",
    "        for _ in range(count)\n",
    "    ]\n",
    "\n",
    "    dgms = pf.persistet_diagram(clouds, n_jobs=-1)\n",
    "    save_diagrams(zoo / f'dgm_{i}.npz', dgms)"
   ]
  },
  {
   "cell_type": "code",
   "execution_count": null,
   "metadata": {},
   "outputs": [],
   "source": []
  }
 ],
 "metadata": {
  "kernelspec": {
   "display_name": "Python 3",
   "language": "python",
   "name": "python3"
  },
  "language_info": {
   "codemirror_mode": {
    "name": "ipython",
    "version": 3
   },
   "file_extension": ".py",
   "mimetype": "text/x-python",
   "name": "python",
   "nbconvert_exporter": "python",
   "pygments_lexer": "ipython3",
   "version": "3.9.1"
  }
 },
 "nbformat": 4,
 "nbformat_minor": 4
}
